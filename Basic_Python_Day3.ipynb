{
  "nbformat": 4,
  "nbformat_minor": 0,
  "metadata": {
    "colab": {
      "provenance": []
    },
    "kernelspec": {
      "name": "python3",
      "display_name": "Python 3"
    },
    "language_info": {
      "name": "python"
    }
  },
  "cells": [
    {
      "cell_type": "markdown",
      "source": [
        "#String"
      ],
      "metadata": {
        "id": "sQhLh8MydBSo"
      }
    },
    {
      "cell_type": "markdown",
      "source": [
        "String Indexing"
      ],
      "metadata": {
        "id": "1LXYdsmC6wEO"
      }
    },
    {
      "cell_type": "code",
      "execution_count": 3,
      "metadata": {
        "id": "eEl9cxZAzfTu",
        "colab": {
          "base_uri": "https://localhost:8080/"
        },
        "outputId": "b6b30c6c-0309-46b1-fd51-fe2fa06f5db8"
      },
      "outputs": [
        {
          "output_type": "stream",
          "name": "stdout",
          "text": [
            "e\n"
          ]
        }
      ],
      "source": [
        "w = \"Welcome to Wscubetech\"\n",
        "print(w[6])"
      ]
    },
    {
      "cell_type": "code",
      "source": [
        "print(w[-1])"
      ],
      "metadata": {
        "colab": {
          "base_uri": "https://localhost:8080/"
        },
        "id": "PaYoZAcX6tly",
        "outputId": "c9e567cb-abd4-4efc-c03a-e63d47a8229e"
      },
      "execution_count": 4,
      "outputs": [
        {
          "output_type": "stream",
          "name": "stdout",
          "text": [
            "h\n"
          ]
        }
      ]
    },
    {
      "cell_type": "code",
      "source": [
        "print(w[-13])"
      ],
      "metadata": {
        "colab": {
          "base_uri": "https://localhost:8080/"
        },
        "id": "QRkjCddX7Jci",
        "outputId": "096d5e90-4586-49bd-b134-d5382139387e"
      },
      "execution_count": 5,
      "outputs": [
        {
          "output_type": "stream",
          "name": "stdout",
          "text": [
            "t\n"
          ]
        }
      ]
    },
    {
      "cell_type": "code",
      "source": [
        "print(w[8])"
      ],
      "metadata": {
        "colab": {
          "base_uri": "https://localhost:8080/"
        },
        "id": "zUMAm4jU8JOS",
        "outputId": "e7120a0f-79fc-4008-d555-c599576c79cf"
      },
      "execution_count": 6,
      "outputs": [
        {
          "output_type": "stream",
          "name": "stdout",
          "text": [
            "t\n"
          ]
        }
      ]
    },
    {
      "cell_type": "markdown",
      "source": [
        "String Slicing"
      ],
      "metadata": {
        "id": "ksy0R2hH8n9Z"
      }
    },
    {
      "cell_type": "code",
      "source": [
        "print(w[0:7])"
      ],
      "metadata": {
        "colab": {
          "base_uri": "https://localhost:8080/"
        },
        "id": "nEQTRs2E8L-5",
        "outputId": "1d1675d4-6171-42b9-c55d-214d7a9a9a79"
      },
      "execution_count": 7,
      "outputs": [
        {
          "output_type": "stream",
          "name": "stdout",
          "text": [
            "Welcome\n"
          ]
        }
      ]
    },
    {
      "cell_type": "code",
      "source": [
        "print(w[0::2])"
      ],
      "metadata": {
        "colab": {
          "base_uri": "https://localhost:8080/"
        },
        "id": "eZVDuZMH8vMZ",
        "outputId": "23eeec66-d495-4c7f-ba44-449ef03a0a48"
      },
      "execution_count": 8,
      "outputs": [
        {
          "output_type": "stream",
          "name": "stdout",
          "text": [
            "Wloet sueeh\n"
          ]
        }
      ]
    },
    {
      "cell_type": "code",
      "source": [
        "print(w[-1::-2])"
      ],
      "metadata": {
        "colab": {
          "base_uri": "https://localhost:8080/"
        },
        "id": "j5FikHkO9cOx",
        "outputId": "30ea251f-f60e-4374-f581-90f324478d45"
      },
      "execution_count": 9,
      "outputs": [
        {
          "output_type": "stream",
          "name": "stdout",
          "text": [
            "heeus teolW\n"
          ]
        }
      ]
    },
    {
      "cell_type": "code",
      "source": [
        "print(w[-1::-1]) # reverse running"
      ],
      "metadata": {
        "colab": {
          "base_uri": "https://localhost:8080/"
        },
        "id": "GFBEkjsM951z",
        "outputId": "9cf2ac25-4279-4b0b-e15b-b3ef0becf29d"
      },
      "execution_count": 11,
      "outputs": [
        {
          "output_type": "stream",
          "name": "stdout",
          "text": [
            "hcetebucsW ot emocleW\n"
          ]
        }
      ]
    },
    {
      "cell_type": "markdown",
      "source": [
        "String Iteration"
      ],
      "metadata": {
        "id": "0IOTzH0MAP98"
      }
    },
    {
      "cell_type": "code",
      "source": [
        "w = \"Welcome to Wscubetech\"\n",
        "t = len(w)\n",
        "print(t)\n",
        "for a in range(t):\n",
        " print(w[a])"
      ],
      "metadata": {
        "colab": {
          "base_uri": "https://localhost:8080/"
        },
        "id": "Yanaqfc2-CMC",
        "outputId": "7dbaca73-bced-4e92-8234-be253caa1869"
      },
      "execution_count": 16,
      "outputs": [
        {
          "output_type": "stream",
          "name": "stdout",
          "text": [
            "21\n",
            "W\n",
            "e\n",
            "l\n",
            "c\n",
            "o\n",
            "m\n",
            "e\n",
            " \n",
            "t\n",
            "o\n",
            " \n",
            "W\n",
            "s\n",
            "c\n",
            "u\n",
            "b\n",
            "e\n",
            "t\n",
            "e\n",
            "c\n",
            "h\n"
          ]
        }
      ]
    },
    {
      "cell_type": "code",
      "source": [
        "w = \"Welcome to Wscubetech\"\n",
        "w = w[-1::-1]\n",
        "t = len(w)\n",
        "print(t)\n",
        "for a in range(t):\n",
        " print(w[a])"
      ],
      "metadata": {
        "colab": {
          "base_uri": "https://localhost:8080/"
        },
        "id": "DlYUL3epAbW6",
        "outputId": "f65ab530-9bc6-4d10-a438-f685568756f9"
      },
      "execution_count": 17,
      "outputs": [
        {
          "output_type": "stream",
          "name": "stdout",
          "text": [
            "21\n",
            "h\n",
            "c\n",
            "e\n",
            "t\n",
            "e\n",
            "b\n",
            "u\n",
            "c\n",
            "s\n",
            "W\n",
            " \n",
            "o\n",
            "t\n",
            " \n",
            "e\n",
            "m\n",
            "o\n",
            "c\n",
            "l\n",
            "e\n",
            "W\n"
          ]
        }
      ]
    },
    {
      "cell_type": "code",
      "source": [
        "\n",
        "w = \"Welcome to Wscubetech\"\n",
        "w = w[-1::-1]\n",
        "t = len(w)\n",
        "print(t)\n",
        "for a in range(t-1,-1,1):\n",
        " print(w[a])"
      ],
      "metadata": {
        "colab": {
          "base_uri": "https://localhost:8080/"
        },
        "id": "wycLXMF8CHla",
        "outputId": "e2dbc123-37eb-4612-a105-db794658f0f1"
      },
      "execution_count": 25,
      "outputs": [
        {
          "output_type": "stream",
          "name": "stdout",
          "text": [
            "21\n"
          ]
        }
      ]
    },
    {
      "cell_type": "code",
      "source": [
        "w = \"Welcpme to Wscubetech\"\n",
        "for a in w:\n",
        "  print(a)"
      ],
      "metadata": {
        "colab": {
          "base_uri": "https://localhost:8080/"
        },
        "id": "Vb2JrYhDCwGK",
        "outputId": "4ab07173-7688-448a-ad4b-6c03c3c2ba8d"
      },
      "execution_count": 26,
      "outputs": [
        {
          "output_type": "stream",
          "name": "stdout",
          "text": [
            "W\n",
            "e\n",
            "l\n",
            "c\n",
            "p\n",
            "m\n",
            "e\n",
            " \n",
            "t\n",
            "o\n",
            " \n",
            "W\n",
            "s\n",
            "c\n",
            "u\n",
            "b\n",
            "e\n",
            "t\n",
            "e\n",
            "c\n",
            "h\n"
          ]
        }
      ]
    },
    {
      "cell_type": "markdown",
      "source": [
        "String Function"
      ],
      "metadata": {
        "id": "zGuuZAjbuc78"
      }
    },
    {
      "cell_type": "markdown",
      "source": [
        "lower(),upper(),capitalize(),title()"
      ],
      "metadata": {
        "id": "Tz2YdhA43ilT"
      }
    },
    {
      "cell_type": "code",
      "source": [
        "w = \"Welcome to Wscubetech\"\n",
        "n = w.lower()\n",
        "print(n)"
      ],
      "metadata": {
        "colab": {
          "base_uri": "https://localhost:8080/"
        },
        "id": "rZhbe4kwEdfS",
        "outputId": "ef07c7ad-aae3-40f8-9db0-b4d11a0a05b1"
      },
      "execution_count": 2,
      "outputs": [
        {
          "output_type": "stream",
          "name": "stdout",
          "text": [
            "welcome to wscubetech\n"
          ]
        }
      ]
    },
    {
      "cell_type": "code",
      "source": [
        "u =w.upper()\n",
        "print(u)"
      ],
      "metadata": {
        "colab": {
          "base_uri": "https://localhost:8080/"
        },
        "id": "9H8x3r7VukM9",
        "outputId": "02d3ae2c-d89d-4054-a0aa-84cf0a9dd582"
      },
      "execution_count": 3,
      "outputs": [
        {
          "output_type": "stream",
          "name": "stdout",
          "text": [
            "WELCOME TO WSCUBETECH\n"
          ]
        }
      ]
    },
    {
      "cell_type": "code",
      "source": [
        "t= w.title()\n",
        "print(t)"
      ],
      "metadata": {
        "colab": {
          "base_uri": "https://localhost:8080/"
        },
        "id": "-7JXzLDYvIG1",
        "outputId": "7ca29053-0dca-4982-db80-a5194d7208f6"
      },
      "execution_count": 4,
      "outputs": [
        {
          "output_type": "stream",
          "name": "stdout",
          "text": [
            "Welcome To Wscubetech\n"
          ]
        }
      ]
    },
    {
      "cell_type": "code",
      "source": [
        "w = \"welcome to Wscubetech\"\n",
        "c = w.capitalize()\n",
        "print(c)"
      ],
      "metadata": {
        "colab": {
          "base_uri": "https://localhost:8080/"
        },
        "id": "3L-ZiqHovQJN",
        "outputId": "d5aa1fb5-6a48-47ec-8838-0696e222d85b"
      },
      "execution_count": 5,
      "outputs": [
        {
          "output_type": "stream",
          "name": "stdout",
          "text": [
            "Welcome to wscubetech\n"
          ]
        }
      ]
    },
    {
      "cell_type": "markdown",
      "source": [
        "find(),index()"
      ],
      "metadata": {
        "id": "udducQ0z3eMq"
      }
    },
    {
      "cell_type": "code",
      "source": [
        "w = \"Welcome\"\n",
        "print(w.find('el'))"
      ],
      "metadata": {
        "colab": {
          "base_uri": "https://localhost:8080/"
        },
        "id": "7AL7besjvaSO",
        "outputId": "59501e16-4bba-4e04-fabd-ee14d32b3926"
      },
      "execution_count": 8,
      "outputs": [
        {
          "output_type": "stream",
          "name": "stdout",
          "text": [
            "1\n"
          ]
        }
      ]
    },
    {
      "cell_type": "code",
      "source": [
        "print(w.find('e',2))"
      ],
      "metadata": {
        "colab": {
          "base_uri": "https://localhost:8080/"
        },
        "id": "noykGA4lwobd",
        "outputId": "05766e59-5087-4e22-fc2e-64fad9fd6d78"
      },
      "execution_count": 9,
      "outputs": [
        {
          "output_type": "stream",
          "name": "stdout",
          "text": [
            "6\n"
          ]
        }
      ]
    },
    {
      "cell_type": "code",
      "source": [
        "print(w.find('z',2))"
      ],
      "metadata": {
        "colab": {
          "base_uri": "https://localhost:8080/"
        },
        "id": "swwIayd_xhTe",
        "outputId": "4e69e7ce-f321-4121-fb98-b92facab8c1a"
      },
      "execution_count": 10,
      "outputs": [
        {
          "output_type": "stream",
          "name": "stdout",
          "text": [
            "-1\n"
          ]
        }
      ]
    },
    {
      "cell_type": "code",
      "source": [
        "w =\"welcome\""
      ],
      "metadata": {
        "id": "AVy0Sdjix7Y1"
      },
      "execution_count": 11,
      "outputs": []
    },
    {
      "cell_type": "code",
      "source": [
        "print(w.index('e'))"
      ],
      "metadata": {
        "colab": {
          "base_uri": "https://localhost:8080/"
        },
        "id": "Rn20IFvny_LO",
        "outputId": "a9cf1a0f-996e-4a87-820e-2d8c0f6e6d30"
      },
      "execution_count": 13,
      "outputs": [
        {
          "output_type": "stream",
          "name": "stdout",
          "text": [
            "1\n"
          ]
        }
      ]
    },
    {
      "cell_type": "code",
      "source": [
        "print(w.index('c'))"
      ],
      "metadata": {
        "colab": {
          "base_uri": "https://localhost:8080/"
        },
        "id": "t4R1bCiTzECG",
        "outputId": "eb0ff1ad-5492-43b1-9404-37c29366586f"
      },
      "execution_count": 14,
      "outputs": [
        {
          "output_type": "stream",
          "name": "stdout",
          "text": [
            "3\n"
          ]
        }
      ]
    },
    {
      "cell_type": "code",
      "source": [
        "print(w.index('c',3))"
      ],
      "metadata": {
        "colab": {
          "base_uri": "https://localhost:8080/"
        },
        "id": "pgAlkTYdzJLd",
        "outputId": "edf5d762-f722-4b13-d120-e3b686c06b49"
      },
      "execution_count": 15,
      "outputs": [
        {
          "output_type": "stream",
          "name": "stdout",
          "text": [
            "3\n"
          ]
        }
      ]
    },
    {
      "cell_type": "code",
      "source": [
        "print(w.index('z',3))"
      ],
      "metadata": {
        "colab": {
          "base_uri": "https://localhost:8080/",
          "height": 141
        },
        "id": "DeLMHmojzMoF",
        "outputId": "32d1d65c-cbfd-41cf-9df9-4a6eb0298b5f"
      },
      "execution_count": 16,
      "outputs": [
        {
          "output_type": "error",
          "ename": "ValueError",
          "evalue": "substring not found",
          "traceback": [
            "\u001b[0;31m---------------------------------------------------------------------------\u001b[0m",
            "\u001b[0;31mValueError\u001b[0m                                Traceback (most recent call last)",
            "\u001b[0;32m/tmp/ipython-input-761875888.py\u001b[0m in \u001b[0;36m<cell line: 0>\u001b[0;34m()\u001b[0m\n\u001b[0;32m----> 1\u001b[0;31m \u001b[0mprint\u001b[0m\u001b[0;34m(\u001b[0m\u001b[0mw\u001b[0m\u001b[0;34m.\u001b[0m\u001b[0mindex\u001b[0m\u001b[0;34m(\u001b[0m\u001b[0;34m'z'\u001b[0m\u001b[0;34m,\u001b[0m\u001b[0;36m3\u001b[0m\u001b[0;34m)\u001b[0m\u001b[0;34m)\u001b[0m\u001b[0;34m\u001b[0m\u001b[0;34m\u001b[0m\u001b[0m\n\u001b[0m",
            "\u001b[0;31mValueError\u001b[0m: substring not found"
          ]
        }
      ]
    },
    {
      "cell_type": "code",
      "source": [
        "print(w.index('z'))"
      ],
      "metadata": {
        "colab": {
          "base_uri": "https://localhost:8080/",
          "height": 141
        },
        "id": "cwR_O6-dzVTe",
        "outputId": "5fe0280d-4ee0-447b-a69f-51dc2bf072ec"
      },
      "execution_count": 17,
      "outputs": [
        {
          "output_type": "error",
          "ename": "ValueError",
          "evalue": "substring not found",
          "traceback": [
            "\u001b[0;31m---------------------------------------------------------------------------\u001b[0m",
            "\u001b[0;31mValueError\u001b[0m                                Traceback (most recent call last)",
            "\u001b[0;32m/tmp/ipython-input-3587130494.py\u001b[0m in \u001b[0;36m<cell line: 0>\u001b[0;34m()\u001b[0m\n\u001b[0;32m----> 1\u001b[0;31m \u001b[0mprint\u001b[0m\u001b[0;34m(\u001b[0m\u001b[0mw\u001b[0m\u001b[0;34m.\u001b[0m\u001b[0mindex\u001b[0m\u001b[0;34m(\u001b[0m\u001b[0;34m'z'\u001b[0m\u001b[0;34m)\u001b[0m\u001b[0;34m)\u001b[0m\u001b[0;34m\u001b[0m\u001b[0;34m\u001b[0m\u001b[0m\n\u001b[0m",
            "\u001b[0;31mValueError\u001b[0m: substring not found"
          ]
        }
      ]
    },
    {
      "cell_type": "markdown",
      "source": [
        "isalpha(),isnum(),isalnum()"
      ],
      "metadata": {
        "id": "W2EtP_1Y3TOO"
      }
    },
    {
      "cell_type": "code",
      "source": [
        "w = \"welcome\"\n",
        "print(w.isalpha())"
      ],
      "metadata": {
        "colab": {
          "base_uri": "https://localhost:8080/"
        },
        "id": "ITbV2r3szaOm",
        "outputId": "5983288c-fb43-44de-87dd-e1158434ac2f"
      },
      "execution_count": 18,
      "outputs": [
        {
          "output_type": "stream",
          "name": "stdout",
          "text": [
            "True\n"
          ]
        }
      ]
    },
    {
      "cell_type": "code",
      "source": [
        "w = \"welcome123\"\n",
        "print(w.isalpha())"
      ],
      "metadata": {
        "colab": {
          "base_uri": "https://localhost:8080/"
        },
        "id": "kfoLF5wY2Fof",
        "outputId": "719666c9-c4c9-4ded-c894-08969c213be1"
      },
      "execution_count": 19,
      "outputs": [
        {
          "output_type": "stream",
          "name": "stdout",
          "text": [
            "False\n"
          ]
        }
      ]
    },
    {
      "cell_type": "code",
      "source": [
        "print(w.isdigit())"
      ],
      "metadata": {
        "colab": {
          "base_uri": "https://localhost:8080/"
        },
        "id": "iGu37Cix2KzG",
        "outputId": "635085ee-3145-4f25-90b3-bd264ef904ae"
      },
      "execution_count": 20,
      "outputs": [
        {
          "output_type": "stream",
          "name": "stdout",
          "text": [
            "False\n"
          ]
        }
      ]
    },
    {
      "cell_type": "code",
      "source": [
        "w = \"123\"\n",
        "print(w.isdigit())"
      ],
      "metadata": {
        "colab": {
          "base_uri": "https://localhost:8080/"
        },
        "id": "F1pJDds52pJu",
        "outputId": "d1e61aad-f4ca-4b79-cfcb-431a45c336ea"
      },
      "execution_count": 21,
      "outputs": [
        {
          "output_type": "stream",
          "name": "stdout",
          "text": [
            "True\n"
          ]
        }
      ]
    },
    {
      "cell_type": "code",
      "source": [
        "w = \"welcome\"\n",
        "print(w.isalnum())"
      ],
      "metadata": {
        "colab": {
          "base_uri": "https://localhost:8080/"
        },
        "outputId": "75cd3915-423f-4038-8718-ce5f7462407e",
        "id": "TSTzvdYL249M"
      },
      "execution_count": 22,
      "outputs": [
        {
          "output_type": "stream",
          "name": "stdout",
          "text": [
            "True\n"
          ]
        }
      ]
    },
    {
      "cell_type": "code",
      "source": [
        "w = \"123\"\n",
        "print(w.isalnum())"
      ],
      "metadata": {
        "colab": {
          "base_uri": "https://localhost:8080/"
        },
        "outputId": "7f1511fb-6d5a-4ce7-87a3-c9217f11419e",
        "id": "8vzYYAHH28S3"
      },
      "execution_count": 23,
      "outputs": [
        {
          "output_type": "stream",
          "name": "stdout",
          "text": [
            "True\n"
          ]
        }
      ]
    },
    {
      "cell_type": "code",
      "source": [
        "w = \"welcome123\"\n",
        "print(w.isalnum())"
      ],
      "metadata": {
        "colab": {
          "base_uri": "https://localhost:8080/"
        },
        "outputId": "9a71e64b-8179-403c-effe-5e6111013316",
        "id": "dqWEtilG3A3z"
      },
      "execution_count": 24,
      "outputs": [
        {
          "output_type": "stream",
          "name": "stdout",
          "text": [
            "True\n"
          ]
        }
      ]
    },
    {
      "cell_type": "code",
      "source": [
        "w = \"welcome@123\"\n",
        "print(w.isalnum())"
      ],
      "metadata": {
        "colab": {
          "base_uri": "https://localhost:8080/"
        },
        "outputId": "05fdf15c-a164-4a77-94df-46bf02bb92be",
        "id": "R1fH3IRO3EfP"
      },
      "execution_count": 25,
      "outputs": [
        {
          "output_type": "stream",
          "name": "stdout",
          "text": [
            "False\n"
          ]
        }
      ]
    },
    {
      "cell_type": "markdown",
      "source": [
        "chr(),ord()"
      ],
      "metadata": {
        "id": "xNhHLhCFSv0U"
      }
    },
    {
      "cell_type": "code",
      "source": [
        "a =68;\n",
        "print(chr(a))"
      ],
      "metadata": {
        "colab": {
          "base_uri": "https://localhost:8080/"
        },
        "id": "0OCbipdx3Hv2",
        "outputId": "f21ee7f7-ea5f-4c7a-ab3f-ae292d287700"
      },
      "execution_count": 4,
      "outputs": [
        {
          "output_type": "stream",
          "name": "stdout",
          "text": [
            "D\n"
          ]
        }
      ]
    },
    {
      "cell_type": "code",
      "source": [
        "h = 'H'\n",
        "print(ord(h))"
      ],
      "metadata": {
        "colab": {
          "base_uri": "https://localhost:8080/"
        },
        "id": "qNLd3BRpS1xO",
        "outputId": "fcd2f827-ad18-4e7a-ced0-b533be749bf6"
      },
      "execution_count": 7,
      "outputs": [
        {
          "output_type": "stream",
          "name": "stdout",
          "text": [
            "72\n"
          ]
        }
      ]
    },
    {
      "cell_type": "markdown",
      "source": [
        "format() Method"
      ],
      "metadata": {
        "id": "q6rcm-7NY3vM"
      }
    },
    {
      "cell_type": "code",
      "source": [
        "w = \"Welcome {} to {} Wscubetech\".format(\"hello\",20); # replace {} with hello and 20\n",
        "print(w)"
      ],
      "metadata": {
        "colab": {
          "base_uri": "https://localhost:8080/"
        },
        "id": "YMumzaYLUeoz",
        "outputId": "530da452-bfd4-4db2-99fb-648b4c8c0f48"
      },
      "execution_count": 10,
      "outputs": [
        {
          "output_type": "stream",
          "name": "stdout",
          "text": [
            "Welcome hello to 20 Wscubetech\n"
          ]
        }
      ]
    },
    {
      "cell_type": "code",
      "source": [
        "w = \"Welcome {1} to {0} Wscubetech\".format(\"hello\",20);\n",
        "# replace {} with hello and 20\n",
        "print(w)"
      ],
      "metadata": {
        "colab": {
          "base_uri": "https://localhost:8080/"
        },
        "id": "8tHDNelhZIPV",
        "outputId": "f4977c7b-8a0e-47cf-bc17-882dff3fa2f5"
      },
      "execution_count": 12,
      "outputs": [
        {
          "output_type": "stream",
          "name": "stdout",
          "text": [
            "Welcome 20 to hello Wscubetech\n"
          ]
        }
      ]
    },
    {
      "cell_type": "code",
      "source": [
        "w = \"welcome {a} to {b} Wscubetech\".format(a = 30,b = 40)\n",
        "print(w)"
      ],
      "metadata": {
        "colab": {
          "base_uri": "https://localhost:8080/"
        },
        "id": "mkswO7UBZ2uO",
        "outputId": "ea1ded3c-76a5-4c95-a1ee-1de8ca51fca6"
      },
      "execution_count": 13,
      "outputs": [
        {
          "output_type": "stream",
          "name": "stdout",
          "text": [
            "welcome 30 to 40 Wscubetech\n"
          ]
        }
      ]
    },
    {
      "cell_type": "code",
      "source": [
        "w = \"welcome {b} to {a} Wscubetech\".format(a = 30,b = 40)\n",
        "print(w)"
      ],
      "metadata": {
        "colab": {
          "base_uri": "https://localhost:8080/"
        },
        "id": "PZG1hZQ9a0Yt",
        "outputId": "94ea86ba-9e5b-4d6f-d195-8742c61f47de"
      },
      "execution_count": 14,
      "outputs": [
        {
          "output_type": "stream",
          "name": "stdout",
          "text": [
            "welcome 40 to 30 Wscubetech\n"
          ]
        }
      ]
    },
    {
      "cell_type": "code",
      "source": [
        "w = \"welcome {b:10} to {a} Wscubetech\".format(a = 30,b = 40)\n",
        "print(w)"
      ],
      "metadata": {
        "colab": {
          "base_uri": "https://localhost:8080/"
        },
        "id": "zKs4YfCLa4l1",
        "outputId": "bfd8f030-c757-4b32-b692-5bbf3756ae42"
      },
      "execution_count": 15,
      "outputs": [
        {
          "output_type": "stream",
          "name": "stdout",
          "text": [
            "welcome         40 to 30 Wscubetech\n"
          ]
        }
      ]
    },
    {
      "cell_type": "code",
      "source": [
        "w = \"welcome {b:^10} to {a} Wscubetech\".format(a = 30,b = 40)\n",
        "print(w)"
      ],
      "metadata": {
        "colab": {
          "base_uri": "https://localhost:8080/"
        },
        "id": "-ebvTdpPbI8e",
        "outputId": "31160542-44e4-408f-b79d-41ac981d6c13"
      },
      "execution_count": 16,
      "outputs": [
        {
          "output_type": "stream",
          "name": "stdout",
          "text": [
            "welcome     40     to 30 Wscubetech\n"
          ]
        }
      ]
    },
    {
      "cell_type": "code",
      "source": [
        "w = \"welcome {b:<10} to {a} Wscubetech\".format(a = 30,b = 40)\n",
        "print(w)"
      ],
      "metadata": {
        "colab": {
          "base_uri": "https://localhost:8080/"
        },
        "outputId": "e5cf6ac3-20bf-4fe3-85cf-2d81c1d66c58",
        "id": "UMOKPzRXb4sq"
      },
      "execution_count": 17,
      "outputs": [
        {
          "output_type": "stream",
          "name": "stdout",
          "text": [
            "welcome 40         to 30 Wscubetech\n"
          ]
        }
      ]
    },
    {
      "cell_type": "markdown",
      "source": [],
      "metadata": {
        "id": "uN0lRPZgdSjC"
      }
    },
    {
      "cell_type": "code",
      "source": [
        "w = \"welcome {b:>10} to {a} Wscubetech\".format(a = 30,b = 40)\n",
        "print(w)"
      ],
      "metadata": {
        "colab": {
          "base_uri": "https://localhost:8080/"
        },
        "outputId": "7a434578-652b-44d6-8516-6f55e5de901a",
        "id": "Gbfrc-Mfb7mQ"
      },
      "execution_count": 18,
      "outputs": [
        {
          "output_type": "stream",
          "name": "stdout",
          "text": [
            "welcome         40 to 30 Wscubetech\n"
          ]
        }
      ]
    },
    {
      "cell_type": "code",
      "source": [
        "w = \"welcome {b:>10} to {a:^10} Wscubetech\".format(a = 30,b = 40)\n",
        "print(w)"
      ],
      "metadata": {
        "colab": {
          "base_uri": "https://localhost:8080/"
        },
        "outputId": "d458a482-411a-4f5c-bcc3-cbb562f633e9",
        "id": "ekY1EijhcruX"
      },
      "execution_count": 19,
      "outputs": [
        {
          "output_type": "stream",
          "name": "stdout",
          "text": [
            "welcome         40 to     30     Wscubetech\n"
          ]
        }
      ]
    }
  ]
}