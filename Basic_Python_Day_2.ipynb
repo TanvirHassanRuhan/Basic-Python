{
  "cells": [
    {
      "cell_type": "markdown",
      "metadata": {
        "id": "HqxHxn35zo3h"
      },
      "source": [
        "# Data Types"
      ]
    },
    {
      "cell_type": "markdown",
      "metadata": {
        "id": "6j_UiuIt0EEq"
      },
      "source": [
        "Numbers"
      ]
    },
    {
      "cell_type": "code",
      "execution_count": null,
      "metadata": {
        "colab": {
          "base_uri": "https://localhost:8080/"
        },
        "id": "LbbcrnnEzyOl",
        "outputId": "a0f4be66-434a-45d3-cb89-456fecf2159f"
      },
      "outputs": [
        {
          "name": "stdout",
          "output_type": "stream",
          "text": [
            "5 <class 'int'>\n"
          ]
        }
      ],
      "source": [
        "a= 5\n",
        "print(a,type(a))"
      ]
    },
    {
      "cell_type": "code",
      "execution_count": null,
      "metadata": {
        "colab": {
          "base_uri": "https://localhost:8080/"
        },
        "id": "RWw7buQ30JG0",
        "outputId": "a00edd18-9ca0-4480-b018-e2c800621d15"
      },
      "outputs": [
        {
          "name": "stdout",
          "output_type": "stream",
          "text": [
            "5.5 <class 'float'>\n"
          ]
        }
      ],
      "source": [
        "b =5.5\n",
        "print(b,type(b))"
      ]
    },
    {
      "cell_type": "code",
      "execution_count": null,
      "metadata": {
        "colab": {
          "base_uri": "https://localhost:8080/"
        },
        "id": "k3qsEelK0VGs",
        "outputId": "80fbb117-fdf6-4a8a-bf2f-06c71b4ee721"
      },
      "outputs": [
        {
          "name": "stdout",
          "output_type": "stream",
          "text": [
            "(2+5j) <class 'complex'>\n"
          ]
        }
      ],
      "source": [
        "c = 2+5j\n",
        "print(c,type(c))"
      ]
    },
    {
      "cell_type": "markdown",
      "metadata": {
        "id": "qQNaRWEU3D9Y"
      },
      "source": [
        "String"
      ]
    },
    {
      "cell_type": "code",
      "execution_count": null,
      "metadata": {
        "id": "cDrCGRh33FyL"
      },
      "outputs": [],
      "source": [
        "s = \"This is a string\""
      ]
    },
    {
      "cell_type": "code",
      "execution_count": null,
      "metadata": {
        "colab": {
          "base_uri": "https://localhost:8080/"
        },
        "id": "5bS3MP5C3Nha",
        "outputId": "e9f12765-573e-4941-fbac-605e488bff20"
      },
      "outputs": [
        {
          "name": "stdout",
          "output_type": "stream",
          "text": [
            "This is a string <class 'str'>\n"
          ]
        }
      ],
      "source": [
        "print(s,type(s))"
      ]
    },
    {
      "cell_type": "code",
      "execution_count": null,
      "metadata": {
        "colab": {
          "base_uri": "https://localhost:8080/"
        },
        "id": "BL6Vf_he3RMu",
        "outputId": "7050239e-5956-42f4-bea7-942e3fc5771f"
      },
      "outputs": [
        {
          "name": "stdout",
          "output_type": "stream",
          "text": [
            " A multiline String  <class 'str'>\n"
          ]
        }
      ],
      "source": [
        "s = ''' A multiline String '''\n",
        "print(s,type(s))"
      ]
    },
    {
      "cell_type": "code",
      "execution_count": null,
      "metadata": {
        "colab": {
          "base_uri": "https://localhost:8080/"
        },
        "id": "x1Zvh4Ft3Zvj",
        "outputId": "bea0bd97-dc4a-4d86-df36-def353155c4e"
      },
      "outputs": [
        {
          "name": "stdout",
          "output_type": "stream",
          "text": [
            "Hello@123 <class 'str'>\n"
          ]
        }
      ],
      "source": [
        "s= \"Hello@123\"\n",
        "print(s,type(s))"
      ]
    },
    {
      "cell_type": "code",
      "execution_count": null,
      "metadata": {
        "colab": {
          "base_uri": "https://localhost:8080/"
        },
        "id": "agHf_vMR3kPM",
        "outputId": "c488c5e7-51ff-4bfa-bdd6-287a7129e809"
      },
      "outputs": [
        {
          "name": "stdout",
          "output_type": "stream",
          "text": [
            "Heloo \n",
            "       Welcome to Wscubetech \n",
            "        <class 'str'>\n"
          ]
        }
      ],
      "source": [
        "s = '''Heloo\n",
        "       Welcome to Wscubetech\n",
        "       '''\n",
        "print(s,type(s))"
      ]
    },
    {
      "cell_type": "code",
      "execution_count": null,
      "metadata": {
        "colab": {
          "base_uri": "https://localhost:8080/"
        },
        "id": "VPwdAn0P3xJT",
        "outputId": "39a155be-eb29-4150-ed03-7bf3035b6e3a"
      },
      "outputs": [
        {
          "name": "stdout",
          "output_type": "stream",
          "text": [
            "10 <class 'str'>\n"
          ]
        }
      ],
      "source": [
        "s='10'\n",
        "print(s,type(s))"
      ]
    },
    {
      "cell_type": "markdown",
      "metadata": {
        "id": "6wpAZxZw5bQb"
      },
      "source": [
        "List"
      ]
    },
    {
      "cell_type": "code",
      "execution_count": null,
      "metadata": {
        "colab": {
          "base_uri": "https://localhost:8080/"
        },
        "id": "lHqSw3I932zk",
        "outputId": "e1e54d69-d10d-419c-c2f9-c63354f38537"
      },
      "outputs": [
        {
          "name": "stdout",
          "output_type": "stream",
          "text": [
            "[10, 'ws', 5.5] <class 'list'>\n"
          ]
        }
      ],
      "source": [
        "l=[10,'ws',5.5]\n",
        "print(l,type(l))"
      ]
    },
    {
      "cell_type": "code",
      "execution_count": null,
      "metadata": {
        "colab": {
          "base_uri": "https://localhost:8080/"
        },
        "id": "0Yb3DiC75i2k",
        "outputId": "d9d3d93f-5827-4dd5-d413-953f0178e23d"
      },
      "outputs": [
        {
          "name": "stdout",
          "output_type": "stream",
          "text": [
            "[10, 'ws', 10] <class 'list'>\n"
          ]
        }
      ],
      "source": [
        "l[2]=10\n",
        "print(l,type(l))"
      ]
    },
    {
      "cell_type": "markdown",
      "metadata": {
        "id": "zKSmJfP48Wjn"
      },
      "source": [
        "Tuple"
      ]
    },
    {
      "cell_type": "code",
      "execution_count": null,
      "metadata": {
        "colab": {
          "base_uri": "https://localhost:8080/"
        },
        "id": "zsFW8WlN50gE",
        "outputId": "e2c97643-4027-4560-cbef-be603101f7d9"
      },
      "outputs": [
        {
          "name": "stdout",
          "output_type": "stream",
          "text": [
            "(10, 20, 'Hello') <class 'tuple'>\n"
          ]
        }
      ],
      "source": [
        "t = (10,20,'Hello')\n",
        "print(t,type(t))"
      ]
    },
    {
      "cell_type": "code",
      "execution_count": null,
      "metadata": {
        "colab": {
          "base_uri": "https://localhost:8080/"
        },
        "id": "4-49L0qO8gg9",
        "outputId": "5e06f93d-7020-41b6-8c8c-75769cf8dc6c"
      },
      "outputs": [
        {
          "name": "stdout",
          "output_type": "stream",
          "text": [
            "10 <class 'int'>\n"
          ]
        }
      ],
      "source": [
        "t=(10)\n",
        "print(t,type(t))"
      ]
    },
    {
      "cell_type": "code",
      "execution_count": null,
      "metadata": {
        "colab": {
          "base_uri": "https://localhost:8080/",
          "height": 106
        },
        "id": "28ORnEzp8lMV",
        "outputId": "124cffe9-f231-40bf-88ec-e321fe1c26e4"
      },
      "outputs": [
        {
          "ename": "SyntaxError",
          "evalue": "invalid syntax. Perhaps you forgot a comma? (ipython-input-2476344497.py, line 1)",
          "output_type": "error",
          "traceback": [
            "\u001b[0;36m  File \u001b[0;32m\"/tmp/ipython-input-2476344497.py\"\u001b[0;36m, line \u001b[0;32m1\u001b[0m\n\u001b[0;31m    t = (10,20.'Hello')\u001b[0m\n\u001b[0m            ^\u001b[0m\n\u001b[0;31mSyntaxError\u001b[0m\u001b[0;31m:\u001b[0m invalid syntax. Perhaps you forgot a comma?\n"
          ]
        }
      ],
      "source": [
        "t = (10,20.'Hello')\n",
        "t[1] = 30\n",
        "print(t,type(t))\n",
        "#Tuple is immutable"
      ]
    },
    {
      "cell_type": "code",
      "execution_count": null,
      "metadata": {
        "colab": {
          "base_uri": "https://localhost:8080/"
        },
        "id": "DWaZoP0x829t",
        "outputId": "9ea7f3cd-7d4a-463c-bddf-03f7fc12151e"
      },
      "outputs": [
        {
          "name": "stdout",
          "output_type": "stream",
          "text": [
            "{'Course_name': 'Python', 'Course_Duration': '2 Months'} <class 'dict'>\n"
          ]
        }
      ],
      "source": [
        "d = {\n",
        "    'Course_name': 'Python',\n",
        "    'Course_Duration': '2 Months'\n",
        "}\n",
        "print(d,type(d))"
      ]
    },
    {
      "cell_type": "code",
      "execution_count": null,
      "metadata": {
        "colab": {
          "base_uri": "https://localhost:8080/"
        },
        "id": "AUuGjSC__-M-",
        "outputId": "11bd71ae-8345-4eb0-dba5-ecd7bf690017"
      },
      "outputs": [
        {
          "name": "stdout",
          "output_type": "stream",
          "text": [
            "Python\n"
          ]
        }
      ],
      "source": [
        "print(d['Course_name']) #Disctionary  is mutable data types"
      ]
    },
    {
      "cell_type": "markdown",
      "metadata": {
        "id": "cNVFjRg4Bt-7"
      },
      "source": [
        "Set"
      ]
    },
    {
      "cell_type": "code",
      "execution_count": null,
      "metadata": {
        "colab": {
          "base_uri": "https://localhost:8080/"
        },
        "id": "N_ktwnS8AFAE",
        "outputId": "15341fe4-afe0-4591-8738-ec8357da42e5"
      },
      "outputs": [
        {
          "name": "stdout",
          "output_type": "stream",
          "text": [
            "{1, 2, 3} <class 'set'>\n"
          ]
        }
      ],
      "source": [
        "my_set = {1,2,3}\n",
        "print(my_set,type(my_set))"
      ]
    },
    {
      "cell_type": "code",
      "execution_count": null,
      "metadata": {
        "colab": {
          "base_uri": "https://localhost:8080/"
        },
        "id": "zFFjwB6NBxPm",
        "outputId": "c3423cc9-6ad3-4db4-c32c-f8aa38b47b90"
      },
      "outputs": [
        {
          "name": "stdout",
          "output_type": "stream",
          "text": [
            "{10, 20, 30} <class 'set'>\n"
          ]
        }
      ],
      "source": [
        "s = {10,20,30,10}\n",
        "print(s,type(s))"
      ]
    },
    {
      "cell_type": "markdown",
      "metadata": {
        "id": "eV3x_G17aw71"
      },
      "source": [
        "# Getting User Input & Type Casting"
      ]
    },
    {
      "cell_type": "markdown",
      "metadata": {
        "id": "FP1EvH74a8Fw"
      },
      "source": [
        "input()"
      ]
    },
    {
      "cell_type": "code",
      "execution_count": null,
      "metadata": {
        "colab": {
          "base_uri": "https://localhost:8080/"
        },
        "id": "YpL0__JbB7_1",
        "outputId": "17c96fad-32b9-4fa8-8923-7f086db99c45"
      },
      "outputs": [
        {
          "name": "stdout",
          "output_type": "stream",
          "text": [
            "Enter The Value:-10\n"
          ]
        }
      ],
      "source": [
        "a = input(\"Enter The Value:-\")"
      ]
    },
    {
      "cell_type": "code",
      "execution_count": null,
      "metadata": {
        "colab": {
          "base_uri": "https://localhost:8080/"
        },
        "id": "IJzfuQwrbDsU",
        "outputId": "a8bdcc81-0ce1-435a-c219-cffea3fa7add"
      },
      "outputs": [
        {
          "name": "stdout",
          "output_type": "stream",
          "text": [
            "10\n"
          ]
        }
      ],
      "source": [
        "print(a)"
      ]
    },
    {
      "cell_type": "code",
      "execution_count": null,
      "metadata": {
        "colab": {
          "base_uri": "https://localhost:8080/"
        },
        "id": "0noomRd4bITk",
        "outputId": "a412487d-58f1-40d6-8517-aacbd196fa6c"
      },
      "outputs": [
        {
          "name": "stdout",
          "output_type": "stream",
          "text": [
            "Enter The Value1:-10\n",
            "Enter The Value2:-20\n",
            "1020\n"
          ]
        }
      ],
      "source": [
        "a = input(\"Enter The Value1:-\")\n",
        "b = input(\"Enter The Value2:-\")\n",
        "print(a+b)"
      ]
    },
    {
      "cell_type": "markdown",
      "metadata": {
        "id": "B0LBD_Yqc7ag"
      },
      "source": [
        "Type Casting"
      ]
    },
    {
      "cell_type": "code",
      "execution_count": null,
      "metadata": {
        "colab": {
          "base_uri": "https://localhost:8080/"
        },
        "id": "3SBbzuXQcLlG",
        "outputId": "8142aedb-88f8-41c5-b7fc-de30f00a75cb"
      },
      "outputs": [
        {
          "name": "stdout",
          "output_type": "stream",
          "text": [
            "Enter The Value1:-10\n",
            "Enter The Value2:-20\n",
            "30\n"
          ]
        }
      ],
      "source": [
        "a = int(input(\"Enter The Value1:-\"))\n",
        "b = int(input(\"Enter The Value2:-\"))\n",
        "print(a+b)"
      ]
    },
    {
      "cell_type": "code",
      "execution_count": null,
      "metadata": {
        "id": "M45lA23-dEZ1"
      },
      "outputs": [],
      "source": []
    },
    {
      "cell_type": "markdown",
      "metadata": {
        "id": "Q8S05N47dx_o"
      },
      "source": [
        "int()"
      ]
    },
    {
      "cell_type": "code",
      "execution_count": null,
      "metadata": {
        "colab": {
          "base_uri": "https://localhost:8080/"
        },
        "id": "-NaKv6OKdJts",
        "outputId": "4990b1f9-8d15-46fc-f69d-680efd896aed"
      },
      "outputs": [
        {
          "name": "stdout",
          "output_type": "stream",
          "text": [
            "Enter The Value1:-10\n",
            "Enter The Value2:-20\n",
            "30\n"
          ]
        }
      ],
      "source": [
        "a = int(input(\"Enter The Value1:-\"))\n",
        "b = int(input(\"Enter The Value2:-\"))\n",
        "print(a+b)"
      ]
    },
    {
      "cell_type": "code",
      "execution_count": null,
      "metadata": {
        "id": "b_lofxBkdLHs"
      },
      "outputs": [],
      "source": []
    },
    {
      "cell_type": "markdown",
      "metadata": {
        "id": "ss7ywcSXdtEO"
      },
      "source": [
        "float()"
      ]
    },
    {
      "cell_type": "code",
      "execution_count": null,
      "metadata": {
        "colab": {
          "base_uri": "https://localhost:8080/"
        },
        "id": "dyYsv-ZMdmIn",
        "outputId": "c1f7e922-d05d-404e-d121-c9968fd33460"
      },
      "outputs": [
        {
          "name": "stdout",
          "output_type": "stream",
          "text": [
            "Enter The Value1:-10.5\n",
            "Enter The Value2:-10\n",
            "20.5\n"
          ]
        }
      ],
      "source": [
        "a = float(input(\"Enter The Value1:-\"))\n",
        "b = float(input(\"Enter The Value2:-\"))\n",
        "print(a+b)"
      ]
    },
    {
      "cell_type": "code",
      "execution_count": null,
      "metadata": {
        "id": "qwd1l1skdpz0"
      },
      "outputs": [],
      "source": []
    },
    {
      "cell_type": "code",
      "execution_count": null,
      "metadata": {
        "colab": {
          "base_uri": "https://localhost:8080/"
        },
        "id": "zw6INVr-d6fh",
        "outputId": "de465e5a-b626-411f-b864-ca2f46312566"
      },
      "outputs": [
        {
          "name": "stdout",
          "output_type": "stream",
          "text": [
            "Enter The Value1:-10\n",
            "Enter The Value2:-10\n",
            "20\n"
          ]
        }
      ],
      "source": [
        "a = eval(input(\"Enter The Value1:-\"))\n",
        "b = eval(input(\"Enter The Value2:-\"))\n",
        "print(a+b)"
      ]
    },
    {
      "cell_type": "code",
      "execution_count": null,
      "metadata": {
        "id": "Kdyt8zfee8hw"
      },
      "outputs": [],
      "source": []
    },
    {
      "cell_type": "code",
      "execution_count": null,
      "metadata": {
        "colab": {
          "base_uri": "https://localhost:8080/"
        },
        "id": "_qai5dxYe_lN",
        "outputId": "e11f94fd-a52f-4064-b7b6-58286c8d679a"
      },
      "outputs": [
        {
          "name": "stdout",
          "output_type": "stream",
          "text": [
            "Enter The Value1:-20.5\n",
            "Enter The Value2:-10\n",
            "30.5\n"
          ]
        }
      ],
      "source": [
        "a = eval(input(\"Enter The Value1:-\"))\n",
        "b = eval(input(\"Enter The Value2:-\"))\n",
        "print(a+b)"
      ]
    },
    {
      "cell_type": "code",
      "execution_count": null,
      "metadata": {
        "colab": {
          "base_uri": "https://localhost:8080/"
        },
        "id": "cvyl7wazfJDQ",
        "outputId": "89ba0446-7ba4-4f71-eb20-d19f7d2cff28"
      },
      "outputs": [
        {
          "name": "stdout",
          "output_type": "stream",
          "text": [
            "Enter The Value1:-0b1010\n",
            "Enter The Value2:-20\n",
            "30\n"
          ]
        }
      ],
      "source": [
        "a = eval(input(\"Enter The Value1:-\"))\n",
        "b = eval(input(\"Enter The Value2:-\"))\n",
        "print(a+b)"
      ]
    },
    {
      "cell_type": "code",
      "execution_count": null,
      "metadata": {
        "id": "3typ08H2fJiN"
      },
      "outputs": [],
      "source": [
        "# eval()can handle int(),float() and binary also"
      ]
    },
    {
      "cell_type": "markdown",
      "metadata": {
        "id": "NN_kJDy0jLN1"
      },
      "source": [
        "#Conditional Statements"
      ]
    },
    {
      "cell_type": "markdown",
      "metadata": {
        "id": "o3fUbyKvjTlh"
      },
      "source": [
        "if statements"
      ]
    },
    {
      "cell_type": "code",
      "execution_count": null,
      "metadata": {
        "colab": {
          "base_uri": "https://localhost:8080/"
        },
        "id": "3nw03x7JgW8e",
        "outputId": "aadd8ad0-df90-46f2-921f-a794325b8d06"
      },
      "outputs": [
        {
          "name": "stdout",
          "output_type": "stream",
          "text": [
            "Enter The Value1:-20\n",
            "20 Even Number\n"
          ]
        }
      ],
      "source": [
        "a = int(input(\"Enter The Value1:-\"))\n",
        "if a%2 == 0 :\n",
        "  print(a,\"Even Number\")"
      ]
    },
    {
      "cell_type": "code",
      "execution_count": null,
      "metadata": {
        "colab": {
          "base_uri": "https://localhost:8080/"
        },
        "id": "DnyRKOH-jmum",
        "outputId": "03b5d415-c630-4ae6-8363-21b5a44c254a"
      },
      "outputs": [
        {
          "name": "stdout",
          "output_type": "stream",
          "text": [
            "Enter The Value1:-21\n"
          ]
        }
      ],
      "source": [
        "a = int(input(\"Enter The Value1:-\"))\n",
        "if a%2 == 0 :\n",
        "  print(a,\"Even Number\")"
      ]
    },
    {
      "cell_type": "markdown",
      "metadata": {
        "id": "4gfJ6gPtjuie"
      },
      "source": [
        "if else Statements"
      ]
    },
    {
      "cell_type": "code",
      "execution_count": null,
      "metadata": {
        "colab": {
          "base_uri": "https://localhost:8080/"
        },
        "id": "Fbap7Qfzjqoe",
        "outputId": "7c5d5942-b5c5-4986-baad-962454874105"
      },
      "outputs": [
        {
          "name": "stdout",
          "output_type": "stream",
          "text": [
            "Enter the value:-20\n",
            "20 Even Number\n"
          ]
        }
      ],
      "source": [
        "a = int(input(\"Enter the value:-\"))\n",
        "if a%2 == 0 :\n",
        "  print(a,\"Even Number\")\n",
        "else :\n",
        "  print(a,\"Odd Number\")"
      ]
    },
    {
      "cell_type": "code",
      "execution_count": null,
      "metadata": {
        "colab": {
          "base_uri": "https://localhost:8080/"
        },
        "id": "wgyvphtLltna",
        "outputId": "6f9b5314-d49e-491a-f880-48a0b5fba42e"
      },
      "outputs": [
        {
          "name": "stdout",
          "output_type": "stream",
          "text": [
            "Enter the value:-21\n",
            "21 Odd Number\n"
          ]
        }
      ],
      "source": [
        "a = int(input(\"Enter the value:-\"))\n",
        "if a%2 == 0 :\n",
        "  print(a,\"Even Number\")\n",
        "else :\n",
        "  print(a,\"Odd Number\")"
      ]
    },
    {
      "cell_type": "code",
      "execution_count": null,
      "metadata": {
        "colab": {
          "base_uri": "https://localhost:8080/"
        },
        "id": "NXMIULaemPUT",
        "outputId": "8bf328bc-57e4-464d-8d37-34ba472086d9"
      },
      "outputs": [
        {
          "name": "stdout",
          "output_type": "stream",
          "text": [
            "Enter the value:-22\n",
            "22 Even Number\n",
            "Welcome to Wscubetech\n"
          ]
        }
      ],
      "source": [
        "a = int(input(\"Enter the value:-\"))\n",
        "if a%2 == 0 :\n",
        "  print(a,\"Even Number\")\n",
        "  print(\"Welcome to Wscubetech\")\n",
        "else :\n",
        "  print(a,\"Odd Number\")"
      ]
    },
    {
      "cell_type": "markdown",
      "metadata": {
        "id": "DZcpl7sWmZyA"
      },
      "source": [
        "if elif else Statement"
      ]
    },
    {
      "cell_type": "code",
      "execution_count": null,
      "metadata": {
        "colab": {
          "base_uri": "https://localhost:8080/"
        },
        "id": "AUTooTxupKs2",
        "outputId": "1023693f-d560-495c-acee-294cb16c6c15"
      },
      "outputs": [
        {
          "name": "stdout",
          "output_type": "stream",
          "text": [
            "Enter The Value:58\n",
            "Second Division\n"
          ]
        }
      ],
      "source": [
        "per = int(input(\"Enter The Value:\"))\n",
        "if per >= 60 :\n",
        "  print(\"First Division\")\n",
        "elif per >= 48 :\n",
        "  print(\"Second Division\")\n",
        "elif per >= 35 :\n",
        "  print(\"Third Division\")\n",
        "else :\n",
        "  print(\"Fail\")"
      ]
    },
    {
      "cell_type": "code",
      "execution_count": null,
      "metadata": {
        "colab": {
          "base_uri": "https://localhost:8080/"
        },
        "id": "u54e-dJZpnb3",
        "outputId": "c081cbb3-7cc0-4294-a510-37c06f0b4cfd"
      },
      "outputs": [
        {
          "name": "stdout",
          "output_type": "stream",
          "text": [
            "Enter The Value:15\n",
            "Fail\n"
          ]
        }
      ],
      "source": [
        "per = int(input(\"Enter The Value:\"))\n",
        "if per >= 60 :\n",
        "  print(\"First Division\")\n",
        "elif per >= 48 :\n",
        "  print(\"Second Division\")\n",
        "elif per >= 35 :\n",
        "  print(\"Third Division\")\n",
        "else :\n",
        "  print(\"Fail\")"
      ]
    },
    {
      "cell_type": "code",
      "execution_count": null,
      "metadata": {
        "colab": {
          "base_uri": "https://localhost:8080/"
        },
        "id": "6nujwzjcppSe",
        "outputId": "9d951f9c-3467-4048-bd99-1ab8bdb2abaa"
      },
      "outputs": [
        {
          "name": "stdout",
          "output_type": "stream",
          "text": [
            "Enter The Value:75\n",
            "First Division\n"
          ]
        }
      ],
      "source": [
        "per = int(input(\"Enter The Value:\"))\n",
        "if per >= 60 :\n",
        "  print(\"First Division\")\n",
        "elif per >= 48 :\n",
        "  print(\"Second Division\")\n",
        "elif per >= 35 :\n",
        "  print(\"Third Division\")\n",
        "else :\n",
        "  print(\"Fail\")"
      ]
    },
    {
      "cell_type": "markdown",
      "metadata": {
        "id": "gRTr4RP_JcmM"
      },
      "source": [
        "Simple Calculations"
      ]
    },
    {
      "cell_type": "code",
      "execution_count": null,
      "metadata": {
        "colab": {
          "base_uri": "https://localhost:8080/"
        },
        "id": "9hQ9LvquJj8-",
        "outputId": "79d1e301-8805-43fd-b9d0-3754b1c5a9ab"
      },
      "outputs": [
        {
          "name": "stdout",
          "output_type": "stream",
          "text": [
            "Enter The Value1:-10\n",
            "Enter The Value2:-20\n",
            "Enter The Operation:-/\n",
            "0.5\n"
          ]
        }
      ],
      "source": [
        "num1 = int(input(\"Enter The Value1:-\"))\n",
        "num2 = int(input(\"Enter The Value2:-\"))\n",
        "opr = input(\"Enter The Operation:-\")\n",
        "if opr == '+' :\n",
        "  print(num1+num2)\n",
        "elif opr == '-' :\n",
        "  print(num1-num2)\n",
        "elif opr == '*' :\n",
        "  print(num1*num2)\n",
        "elif opr == '/' :\n",
        "  print(num1/num2)\n",
        "else :\n",
        "  print(\"Invalid Operation\")"
      ]
    },
    {
      "cell_type": "code",
      "execution_count": null,
      "metadata": {
        "colab": {
          "base_uri": "https://localhost:8080/"
        },
        "id": "xY-o-Kx4LAbR",
        "outputId": "e0e42326-7645-4cdd-f1be-dcddcc288970"
      },
      "outputs": [
        {
          "name": "stdout",
          "output_type": "stream",
          "text": [
            "Enter The Value1:-10\n",
            "Enter The Value2:-20\n",
            "Enter The Operation:--\n",
            "-10\n",
            "Invalid Operation\n"
          ]
        }
      ],
      "source": [
        "num1 = int(input(\"Enter The Value1:-\"))\n",
        "num2 = int(input(\"Enter The Value2:-\"))\n",
        "opr = input(\"Enter The Operation:-\")\n",
        "if opr == '+' :\n",
        "  print(num1+num2)\n",
        "if opr == '-' :\n",
        "  print(num1-num2)\n",
        "if opr == '*' :\n",
        "  print(num1*num2)\n",
        "if opr == '/' :\n",
        "  print(num1/num2)\n",
        "else :\n",
        "  print(\"Invalid Operation\")"
      ]
    },
    {
      "cell_type": "code",
      "execution_count": null,
      "metadata": {
        "id": "XC48AAQMLESP"
      },
      "outputs": [],
      "source": []
    },
    {
      "cell_type": "code",
      "execution_count": null,
      "metadata": {
        "colab": {
          "base_uri": "https://localhost:8080/"
        },
        "id": "6cK7g4LJMO1c",
        "outputId": "94084b92-2697-469f-979f-53fe4293b371"
      },
      "outputs": [
        {
          "name": "stdout",
          "output_type": "stream",
          "text": [
            "Enter The Value1: 10\n",
            "Enter The Value2: 20\n",
            "Enter The Operation (+, -, *, /): &\n",
            "Invalid Operation\n"
          ]
        }
      ],
      "source": [
        "num1 = int(input(\"Enter The Value1: \"))\n",
        "num2 = int(input(\"Enter The Value2: \"))\n",
        "opr = input(\"Enter The Operation (+, -, *, /): \")\n",
        "\n",
        "if opr == '+':\n",
        "    print(\"Result:\", num1 + num2)\n",
        "elif opr == '-':\n",
        "    print(\"Result:\", num1 - num2)\n",
        "elif opr == '*':\n",
        "    print(\"Result:\", num1 * num2)\n",
        "elif opr == '/':\n",
        "    # division by zero check\n",
        "    if num2 != 0:\n",
        "        print(\"Result:\", num1 / num2)\n",
        "    else:\n",
        "        print(\"Error: Division by zero is not allowed!\")\n",
        "else:\n",
        "    print(\"Invalid Operation\")\n"
      ]
    },
    {
      "cell_type": "markdown",
      "metadata": {
        "id": "s6UwQqUrSCpV"
      },
      "source": [
        "For Loop With Range()"
      ]
    },
    {
      "cell_type": "code",
      "execution_count": null,
      "metadata": {
        "colab": {
          "base_uri": "https://localhost:8080/"
        },
        "id": "tncgPzasMijQ",
        "outputId": "53db154c-3fec-48b8-a112-aae80566e320"
      },
      "outputs": [
        {
          "data": {
            "text/plain": [
              "range(0, 5)"
            ]
          },
          "execution_count": 14,
          "metadata": {},
          "output_type": "execute_result"
        }
      ],
      "source": [
        "range(5) # 0,1,2,3,4"
      ]
    },
    {
      "cell_type": "code",
      "execution_count": null,
      "metadata": {
        "colab": {
          "base_uri": "https://localhost:8080/"
        },
        "id": "qz--3-uKSH0Y",
        "outputId": "8d90bcdd-bc56-4968-ce25-9eb313b45506"
      },
      "outputs": [
        {
          "data": {
            "text/plain": [
              "range(1, 6)"
            ]
          },
          "execution_count": 15,
          "metadata": {},
          "output_type": "execute_result"
        }
      ],
      "source": [
        "range(1,6) #1,2,3,4,5"
      ]
    },
    {
      "cell_type": "code",
      "execution_count": null,
      "metadata": {
        "colab": {
          "base_uri": "https://localhost:8080/"
        },
        "id": "RXybs4p6SNHn",
        "outputId": "f271dd14-898d-4cec-8bc2-a756f16b33e6"
      },
      "outputs": [
        {
          "data": {
            "text/plain": [
              "range(1, 6, 2)"
            ]
          },
          "execution_count": 17,
          "metadata": {},
          "output_type": "execute_result"
        }
      ],
      "source": [
        "range(1,6,2) #1,3,5"
      ]
    },
    {
      "cell_type": "code",
      "execution_count": null,
      "metadata": {
        "colab": {
          "base_uri": "https://localhost:8080/"
        },
        "id": "Upkc-8fHSP73",
        "outputId": "4e58ecb0-4910-4a3e-f7c7-c950302777a5"
      },
      "outputs": [
        {
          "name": "stdout",
          "output_type": "stream",
          "text": [
            "0\n",
            "1\n",
            "2\n",
            "3\n",
            "4\n"
          ]
        }
      ],
      "source": [
        "for n in range(5):\n",
        "  print(n)"
      ]
    },
    {
      "cell_type": "code",
      "execution_count": null,
      "metadata": {
        "colab": {
          "base_uri": "https://localhost:8080/"
        },
        "id": "PVu6x6Kyl1XP",
        "outputId": "eb434129-634e-4bed-c63f-c570acb35ea0"
      },
      "outputs": [
        {
          "name": "stdout",
          "output_type": "stream",
          "text": [
            "1\n",
            "2\n",
            "3\n",
            "4\n",
            "5\n"
          ]
        }
      ],
      "source": [
        "for n in range(1,6):\n",
        "  print(n)"
      ]
    },
    {
      "cell_type": "code",
      "execution_count": null,
      "metadata": {
        "colab": {
          "base_uri": "https://localhost:8080/"
        },
        "id": "LD1Us_vvmXJ5",
        "outputId": "41b293bf-0c35-4bf4-cfc5-57a3771baf4d"
      },
      "outputs": [
        {
          "name": "stdout",
          "output_type": "stream",
          "text": [
            "1\n",
            "3\n",
            "5\n"
          ]
        }
      ],
      "source": [
        "for n in range(1,6,2):\n",
        "  print(n)"
      ]
    },
    {
      "cell_type": "code",
      "execution_count": null,
      "metadata": {
        "colab": {
          "base_uri": "https://localhost:8080/"
        },
        "id": "xh9WdSElmlYy",
        "outputId": "b486faf3-3177-4e7d-e413-c947ddf21fd2"
      },
      "outputs": [
        {
          "name": "stdout",
          "output_type": "stream",
          "text": [
            "Welcome\n",
            "Welcome\n",
            "Welcome\n",
            "Welcome\n",
            "Welcome\n"
          ]
        }
      ],
      "source": [
        "for n in range(5):\n",
        "  print(\"Welcome\")"
      ]
    },
    {
      "cell_type": "code",
      "execution_count": null,
      "metadata": {
        "colab": {
          "base_uri": "https://localhost:8080/"
        },
        "id": "eiqI4rA1m-p5",
        "outputId": "d897ffd4-1163-41ff-860d-8b598f04dbd8"
      },
      "outputs": [
        {
          "name": "stdout",
          "output_type": "stream",
          "text": [
            "1\n",
            "2\n",
            "3\n",
            "4\n",
            "5\n",
            "6\n",
            "7\n",
            "8\n",
            "9\n",
            "10\n"
          ]
        }
      ],
      "source": [
        "for a in range(1,11):\n",
        "  print(a)"
      ]
    },
    {
      "cell_type": "code",
      "execution_count": null,
      "metadata": {
        "colab": {
          "base_uri": "https://localhost:8080/"
        },
        "id": "KIHiz0lLnWEy",
        "outputId": "aa9cf285-2712-4f58-82cb-45d13fb1061d"
      },
      "outputs": [
        {
          "name": "stdout",
          "output_type": "stream",
          "text": [
            "2\n",
            "4\n",
            "6\n",
            "8\n",
            "10\n",
            "12\n",
            "14\n",
            "16\n",
            "18\n",
            "20\n"
          ]
        }
      ],
      "source": [
        "for a in range(1,11):\n",
        "  print(2*a)"
      ]
    },
    {
      "cell_type": "code",
      "execution_count": null,
      "metadata": {
        "colab": {
          "base_uri": "https://localhost:8080/"
        },
        "id": "hlPWnpt2ngpy",
        "outputId": "1cc545f0-85a3-4610-e3e7-fc278a1f36a9"
      },
      "outputs": [
        {
          "name": "stdout",
          "output_type": "stream",
          "text": [
            "2* 1 = 2\n",
            "2* 2 = 4\n",
            "2* 3 = 6\n",
            "2* 4 = 8\n",
            "2* 5 = 10\n",
            "2* 6 = 12\n",
            "2* 7 = 14\n",
            "2* 8 = 16\n",
            "2* 9 = 18\n",
            "2* 10 = 20\n"
          ]
        }
      ],
      "source": [
        "for a in range(1,11):\n",
        "  print(\"2*\",a,\"=\",2*a)"
      ]
    },
    {
      "cell_type": "code",
      "execution_count": null,
      "metadata": {
        "colab": {
          "base_uri": "https://localhost:8080/"
        },
        "id": "0GNCa443oWLZ",
        "outputId": "b32ce3fa-a7ec-4ca7-d267-cc101483e944"
      },
      "outputs": [
        {
          "name": "stdout",
          "output_type": "stream",
          "text": [
            "10\n",
            "9\n",
            "8\n",
            "7\n",
            "6\n",
            "5\n",
            "4\n",
            "3\n",
            "2\n",
            "1\n"
          ]
        }
      ],
      "source": [
        "for n in range(10,0,-1):\n",
        "  print(n)"
      ]
    },
    {
      "cell_type": "code",
      "execution_count": null,
      "metadata": {
        "colab": {
          "base_uri": "https://localhost:8080/"
        },
        "id": "EI8T6A9ApMNK",
        "outputId": "44952701-640b-4965-8e85-665c65d7cf5f"
      },
      "outputs": [
        {
          "name": "stdout",
          "output_type": "stream",
          "text": [
            "10\n",
            "8\n",
            "6\n",
            "4\n",
            "2\n"
          ]
        }
      ],
      "source": [
        "for n in range(10,0,-2):\n",
        "  print(n)"
      ]
    },
    {
      "cell_type": "code",
      "execution_count": null,
      "metadata": {
        "colab": {
          "base_uri": "https://localhost:8080/"
        },
        "id": "AEayPzxIpf4z",
        "outputId": "85c1496a-8086-47b7-8beb-d39ee189b080"
      },
      "outputs": [
        {
          "name": "stdout",
          "output_type": "stream",
          "text": [
            "10\n",
            "8\n",
            "6\n",
            "4\n",
            "2\n",
            "0\n"
          ]
        }
      ],
      "source": [
        "for n in range(10,-1,-2):\n",
        "  print(n)"
      ]
    },
    {
      "cell_type": "markdown",
      "metadata": {
        "id": "AxUj7tGG2Hnm"
      },
      "source": [
        "While Loop"
      ]
    },
    {
      "cell_type": "code",
      "execution_count": null,
      "metadata": {
        "colab": {
          "base_uri": "https://localhost:8080/"
        },
        "id": "V_abrA3wpqiS",
        "outputId": "9c91f1bf-105d-4dd9-ce65-727ba7d1cc30"
      },
      "outputs": [
        {
          "name": "stdout",
          "output_type": "stream",
          "text": [
            "Welcome to Wscubetech\n",
            "Welcome to Wscubetech\n",
            "Welcome to Wscubetech\n",
            "Welcome to Wscubetech\n",
            "Welcome to Wscubetech\n",
            "Welcome to Wscubetech\n",
            "Welcome to Wscubetech\n",
            "Welcome to Wscubetech\n",
            "Welcome to Wscubetech\n",
            "Welcome to Wscubetech\n"
          ]
        }
      ],
      "source": [
        "i = 1\n",
        "while i<= 10:\n",
        "  print(\"Welcome to Wscubetech\")\n",
        "  i=i+1"
      ]
    },
    {
      "cell_type": "code",
      "source": [],
      "metadata": {
        "id": "spOnFOEz6gsQ"
      },
      "execution_count": null,
      "outputs": []
    }
  ],
  "metadata": {
    "colab": {
      "provenance": []
    },
    "kernelspec": {
      "display_name": "Python 3",
      "name": "python3"
    },
    "language_info": {
      "name": "python"
    }
  },
  "nbformat": 4,
  "nbformat_minor": 0
}